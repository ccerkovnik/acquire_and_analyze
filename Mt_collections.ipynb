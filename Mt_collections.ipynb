{
 "cells": [
  {
   "cell_type": "code",
   "execution_count": 1,
   "metadata": {},
   "outputs": [],
   "source": [
    "import sqlite3"
   ]
  },
  {
   "cell_type": "code",
   "execution_count": 2,
   "metadata": {},
   "outputs": [],
   "source": [
    "db=sqlite3.connect(\"mt_collections.db\")\n",
    "cur= db.cursor()"
   ]
  },
  {
   "cell_type": "code",
   "execution_count": 3,
   "metadata": {},
   "outputs": [],
   "source": [
    "#uploading collections csv file\n",
    "cur.execute ('''drop table if exists collections''')\n",
    "cur.execute('''create table collections(\n",
    "                                gpo STRING,\n",
    "                                idn STRING,\n",
    "                                fa_num INTEGER,\n",
    "                                fa_name STRING,\n",
    "                                franchise STRING,\n",
    "                                product_line TEXT,\n",
    "                                manufacturer STRING,\n",
    "                                item_num STRING,\n",
    "                                item_description STRING,\n",
    "                                month TEXT,\n",
    "                                quarter STRING,\n",
    "                                year STRING,\n",
    "                                usage INTEGER,\n",
    "                                collected INTEGER,\n",
    "                                accepted INTEGER,\n",
    "                                dnr INTEGER,\n",
    "                                available INTEGER,\n",
    "                                purchased INTEGER,\n",
    "                                cancelled FLOAT)''')\n",
    "\n",
    "db.commit()"
   ]
  },
  {
   "cell_type": "code",
   "execution_count": 4,
   "metadata": {},
   "outputs": [],
   "source": [
    "with open ('MT Collections.csv','r') as ifile:\n",
    "    next(ifile)\n",
    "    for idx, line in enumerate(ifile.readlines()):\n",
    "        line = line.strip().split(\",\")\n",
    "        \n",
    "        \n",
    "        \n",
    "        \n",
    "        cur.execute('''insert into collections( gpo,idn, fa_num,fa_name, franchise,product_line, manufacturer, item_num, item_description,\n",
    "        month, quarter,year,usage, collected, accepted,dnr,available, purchased, cancelled) VALUES (?,?,?,?,?,?,?,?\n",
    "        ,?,?,?,?,?,?,?,?,?,?,?)''',line)\n",
    "        \n",
    "        db.commit()"
   ]
  },
  {
   "cell_type": "code",
   "execution_count": 5,
   "metadata": {},
   "outputs": [],
   "source": [
    "#uploading the the csv file that records my inservices\n",
    "cur.execute('''drop table if exists inservice''')\n",
    "\n",
    "cur.execute('''create table inservice(\n",
    "                                fa_name STRING,\n",
    "                                T_EVS FLOAT,\n",
    "                                q3_2018_evs FLOAT,\n",
    "                                q4_2018_evs FLOAT,\n",
    "                                q1_2019_EVS FLOAT,\n",
    "                                q2_2019_EVS FLOAT,\n",
    "                                q3_2019_EVS FLOAT,\n",
    "                                T_OR FLOAT,\n",
    "                                q3_2018_OR FLOAT,\n",
    "                                q4_2018_OR FLOAT,\n",
    "                                q1_2019_OR FLOAT,\n",
    "                                q2_2019_OR FLOAT,\n",
    "                                q3_2019_OR FLOAT)\n",
    "                               \n",
    "''')\n",
    "\n",
    "db.commit()"
   ]
  },
  {
   "cell_type": "code",
   "execution_count": 6,
   "metadata": {},
   "outputs": [],
   "source": [
    "with open('Inservice_final.csv','r')as ifile:\n",
    "    next(ifile)\n",
    "    for idx, line in enumerate (ifile.readlines()):\n",
    "        line= line.strip().split(\",\")\n",
    "        \n",
    "        \n",
    "        cur.execute(''' insert into inservice(fa_name, T_EVS, q3_2018_evs ,q4_2018_evs,q1_2019_EVS,q2_2019_EVS,q3_2019_EVS,T_OR,\n",
    "        q3_2018_OR,q4_2018_OR,q1_2019_OR,q2_2019_OR,q3_2019_OR ) \n",
    "        values(?,?,?,?,?,?,?,?,?,?,?,?,?)''',line)\n",
    "        \n",
    "        db.commit()"
   ]
  },
  {
   "cell_type": "code",
   "execution_count": 7,
   "metadata": {},
   "outputs": [],
   "source": [
    "# creating a table that displays total 2019 non-invasive collections and evs inservices\n",
    "\n",
    "cur.execute ('''drop table if exists evs_collections_2019 ''')\n",
    "cur.execute('''create table evs_collections_2019 as\n",
    "                                        select fa_name,year as year_2019,franchise,sum(collected)as non_collected_2019\n",
    "                                        from collections\n",
    "                                        where franchise=\"NON\" and year='2019'\n",
    "                                        group by fa_name\n",
    "                                        order by year''')\n",
    "\n",
    "db.commit()"
   ]
  },
  {
   "cell_type": "code",
   "execution_count": 8,
   "metadata": {},
   "outputs": [],
   "source": [
    "#bringing in 2018 collections and combining to one table\n",
    "\n",
    "cur.execute ('''drop table if exists evs_collections_2018 ''')\n",
    "cur.execute('''create table evs_collections_2018 as\n",
    "                                        select fa_name,year as year_2018,franchise,sum(collected)as non_collected_2018 \n",
    "                                        from collections\n",
    "                                        where franchise=\"NON\" and year='2018'\n",
    "                                        group by fa_name\n",
    "                                        order by year''')\n",
    "\n",
    "db.commit()"
   ]
  },
  {
   "cell_type": "code",
   "execution_count": 9,
   "metadata": {},
   "outputs": [],
   "source": [
    "#combining the tables this is manual but this was the only way I could get it to be formatted the way I wanted\n",
    "\n",
    "cur.execute ('''drop table if exists evs_collections ''')\n",
    "cur.execute(''' create table evs_collections as\n",
    "                                select evs_collections_2019.*,evs_collections_2018.*\n",
    "                                from evs_collections_2019 \n",
    "                                join evs_collections_2018 on evs_collections_2019.fa_name=evs_collections_2018.fa_name\n",
    "                                \n",
    "                                ''')\n",
    "db.commit()"
   ]
  },
  {
   "cell_type": "code",
   "execution_count": 10,
   "metadata": {},
   "outputs": [],
   "source": [
    "cur.execute ('''drop table if exists surgical_collections_2019  ''')\n",
    "cur.execute('''create table surgical_collections_2019 as\n",
    "                                        select fa_name,year as year_2019,franchise,sum(collected) as surg_collected_2019\n",
    "                                        from collections\n",
    "                                        where franchise=\"SUR\" and year='2019'\n",
    "                                        group by fa_name\n",
    "                                        ''')\n",
    "\n",
    "db.commit()"
   ]
  },
  {
   "cell_type": "code",
   "execution_count": 11,
   "metadata": {},
   "outputs": [],
   "source": [
    "cur.execute ('''drop table if exists surgical_collections_2018  ''')\n",
    "\n",
    "cur.execute('''create table surgical_collections_2018 as\n",
    "                                        select fa_name,year as year_2018,franchise,sum(collected) as surg_collected_2018\n",
    "                                        from collections\n",
    "                                        where franchise=\"SUR\" and year='2018'\n",
    "                                        group by fa_name\n",
    "                                        ''')\n",
    "\n",
    "db.commit()"
   ]
  },
  {
   "cell_type": "code",
   "execution_count": 12,
   "metadata": {},
   "outputs": [],
   "source": [
    "cur.execute ('''drop table if exists surgical_collections  ''')\n",
    "\n",
    "\n",
    "cur.execute(''' create table surgical_collections as\n",
    "                                select surgical_collections_2019.*,surgical_collections_2018.*\n",
    "                                from surgical_collections_2019 \n",
    "                                join surgical_collections_2018 on surgical_collections_2019.fa_name=surgical_collections_2018.fa_name\n",
    "                                \n",
    "                                ''')\n",
    "db.commit()"
   ]
  },
  {
   "cell_type": "markdown",
   "metadata": {},
   "source": [
    "Now I am going to join the inservice table to the total evs and surgical collections.  Most of my inservices are either in quarter 3 and 4 of 2018 and quarter 1 of 2019.  I want to see which quarters the inservices have the most effect on 2019 collections"
   ]
  },
  {
   "cell_type": "code",
   "execution_count": 13,
   "metadata": {},
   "outputs": [],
   "source": [
    "cur.execute ('''drop table if exists surgical_collections_ins  ''')\n",
    "\n",
    "\n",
    "cur.execute('''create table surgical_collections_ins as\n",
    "                                        select surgical_collections.*,inservice.*\n",
    "                                        from surgical_collections\n",
    "                                        join inservice on surgical_collections.fa_name=inservice.fa_name \n",
    "                                                        \n",
    "                                                        ''')\n",
    "db.commit()"
   ]
  },
  {
   "cell_type": "code",
   "execution_count": 14,
   "metadata": {},
   "outputs": [],
   "source": [
    "cur.execute ('''drop table if exists evs_collections_ins  ''')\n",
    "\n",
    "cur.execute('''create table evs_collections_ins as\n",
    "                                        select evs_collections.*,inservice.*\n",
    "                                        from evs_collections\n",
    "                                        join inservice on evs_collections.fa_name=inservice.fa_name \n",
    "                                                        \n",
    "                                                        ''')\n",
    "db.commit()"
   ]
  },
  {
   "cell_type": "code",
   "execution_count": null,
   "metadata": {},
   "outputs": [],
   "source": []
  }
 ],
 "metadata": {
  "kernelspec": {
   "display_name": "Python 3",
   "language": "python",
   "name": "python3"
  },
  "language_info": {
   "codemirror_mode": {
    "name": "ipython",
    "version": 3
   },
   "file_extension": ".py",
   "mimetype": "text/x-python",
   "name": "python",
   "nbconvert_exporter": "python",
   "pygments_lexer": "ipython3",
   "version": "3.7.3"
  }
 },
 "nbformat": 4,
 "nbformat_minor": 2
}
